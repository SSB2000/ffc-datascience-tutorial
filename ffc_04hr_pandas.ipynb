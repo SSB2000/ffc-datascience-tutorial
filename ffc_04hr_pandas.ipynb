{
  "nbformat": 4,
  "nbformat_minor": 0,
  "metadata": {
    "colab": {
      "name": "ffc - 04hr - pandas.ipynb",
      "provenance": [],
      "collapsed_sections": [],
      "authorship_tag": "ABX9TyOuxwlg/LWBqycyVTHXpBTS",
      "include_colab_link": true
    },
    "kernelspec": {
      "name": "python3",
      "display_name": "Python 3"
    },
    "language_info": {
      "name": "python"
    }
  },
  "cells": [
    {
      "cell_type": "markdown",
      "metadata": {
        "id": "view-in-github",
        "colab_type": "text"
      },
      "source": [
        "<a href=\"https://colab.research.google.com/github/SSB2000/ffc-datascience-tutorial/blob/master/ffc_04hr_pandas.ipynb\" target=\"_parent\"><img src=\"https://colab.research.google.com/assets/colab-badge.svg\" alt=\"Open In Colab\"/></a>"
      ]
    },
    {
      "cell_type": "markdown",
      "metadata": {
        "id": "KI_0HFTw8igp"
      },
      "source": [
        "# Pandas"
      ]
    },
    {
      "cell_type": "markdown",
      "metadata": {
        "id": "MkfWaRDpd0Lp"
      },
      "source": [
        "# Intro to Pandas series"
      ]
    },
    {
      "cell_type": "code",
      "metadata": {
        "id": "ZTuObxIo8mRe"
      },
      "source": [
        "import pandas as pd"
      ],
      "execution_count": null,
      "outputs": []
    },
    {
      "cell_type": "code",
      "metadata": {
        "id": "hm-zUKRq8tXS"
      },
      "source": [
        "import numpy as np"
      ],
      "execution_count": null,
      "outputs": []
    },
    {
      "cell_type": "markdown",
      "metadata": {
        "id": "KY5w_b8i8xoG"
      },
      "source": [
        "Pandas Series"
      ]
    },
    {
      "cell_type": "code",
      "metadata": {
        "id": "erKmHrzH87bc"
      },
      "source": [
        "g7_pop = pd.Series([12, 21, 34, 65, 32, 65, 76])"
      ],
      "execution_count": null,
      "outputs": []
    },
    {
      "cell_type": "code",
      "metadata": {
        "colab": {
          "base_uri": "https://localhost:8080/"
        },
        "id": "O7TqDFWO912w",
        "outputId": "851af5a1-57b7-4602-8362-f578795c40c3"
      },
      "source": [
        "g7_pop"
      ],
      "execution_count": null,
      "outputs": [
        {
          "output_type": "execute_result",
          "data": {
            "text/plain": [
              "0    12\n",
              "1    21\n",
              "2    34\n",
              "3    65\n",
              "4    32\n",
              "5    65\n",
              "6    76\n",
              "dtype: int64"
            ]
          },
          "metadata": {
            "tags": []
          },
          "execution_count": 18
        }
      ]
    },
    {
      "cell_type": "code",
      "metadata": {
        "colab": {
          "base_uri": "https://localhost:8080/"
        },
        "id": "zwvzP8iE94uS",
        "outputId": "3bd6f385-e516-492f-8ea7-92808c33eefb"
      },
      "source": [
        "g7_pop.values"
      ],
      "execution_count": null,
      "outputs": [
        {
          "output_type": "execute_result",
          "data": {
            "text/plain": [
              "array([12, 21, 34, 65, 32, 65, 76])"
            ]
          },
          "metadata": {
            "tags": []
          },
          "execution_count": 19
        }
      ]
    },
    {
      "cell_type": "code",
      "metadata": {
        "colab": {
          "base_uri": "https://localhost:8080/"
        },
        "id": "DGgnWLUP98uH",
        "outputId": "7d3b0a0c-231f-4f67-871f-57c911f07200"
      },
      "source": [
        "type(g7_pop.values)"
      ],
      "execution_count": null,
      "outputs": [
        {
          "output_type": "execute_result",
          "data": {
            "text/plain": [
              "numpy.ndarray"
            ]
          },
          "metadata": {
            "tags": []
          },
          "execution_count": 20
        }
      ]
    },
    {
      "cell_type": "code",
      "metadata": {
        "id": "LOaLzktY9_9q"
      },
      "source": [
        "g7_pop.name = \"G7 population in millions\""
      ],
      "execution_count": null,
      "outputs": []
    },
    {
      "cell_type": "code",
      "metadata": {
        "id": "mZpWoQKU-I9e"
      },
      "source": [
        ""
      ],
      "execution_count": null,
      "outputs": []
    },
    {
      "cell_type": "code",
      "metadata": {
        "colab": {
          "base_uri": "https://localhost:8080/"
        },
        "id": "wL1QprHm-E7-",
        "outputId": "43a5d1ad-b75f-459f-ecc5-261716fb98e1"
      },
      "source": [
        "g7_pop"
      ],
      "execution_count": null,
      "outputs": [
        {
          "output_type": "execute_result",
          "data": {
            "text/plain": [
              "0    12\n",
              "1    21\n",
              "2    34\n",
              "3    65\n",
              "4    32\n",
              "5    65\n",
              "6    76\n",
              "Name: G7 population in millions, dtype: int64"
            ]
          },
          "metadata": {
            "tags": []
          },
          "execution_count": 22
        }
      ]
    },
    {
      "cell_type": "code",
      "metadata": {
        "colab": {
          "base_uri": "https://localhost:8080/"
        },
        "id": "heJSyUm6-PJC",
        "outputId": "00c54c6a-19bd-4f5a-f674-3995e5881dc0"
      },
      "source": [
        "g7_pop[0]"
      ],
      "execution_count": null,
      "outputs": [
        {
          "output_type": "execute_result",
          "data": {
            "text/plain": [
              "12"
            ]
          },
          "metadata": {
            "tags": []
          },
          "execution_count": 23
        }
      ]
    },
    {
      "cell_type": "code",
      "metadata": {
        "colab": {
          "base_uri": "https://localhost:8080/"
        },
        "id": "f63-IOY_-Sps",
        "outputId": "17cbb08f-1e52-4569-ec67-a43f7ba2d932"
      },
      "source": [
        "g7_pop[1: 2]"
      ],
      "execution_count": null,
      "outputs": [
        {
          "output_type": "execute_result",
          "data": {
            "text/plain": [
              "1    21\n",
              "Name: G7 population in millions, dtype: int64"
            ]
          },
          "metadata": {
            "tags": []
          },
          "execution_count": 24
        }
      ]
    },
    {
      "cell_type": "code",
      "metadata": {
        "colab": {
          "base_uri": "https://localhost:8080/"
        },
        "id": "Ol29lRK6-VS6",
        "outputId": "708dcefc-dacc-40f4-d07a-585e79b97674"
      },
      "source": [
        "g7_pop[2:]"
      ],
      "execution_count": null,
      "outputs": [
        {
          "output_type": "execute_result",
          "data": {
            "text/plain": [
              "2    34\n",
              "3    65\n",
              "4    32\n",
              "5    65\n",
              "6    76\n",
              "Name: G7 population in millions, dtype: int64"
            ]
          },
          "metadata": {
            "tags": []
          },
          "execution_count": 25
        }
      ]
    },
    {
      "cell_type": "code",
      "metadata": {
        "id": "5rSWrkdTcVr3"
      },
      "source": [
        "g7_pop.index=[\n",
        "              'Canada',\n",
        "              'United States',\n",
        "              'United Kingdom',\n",
        "              'Italy',\n",
        "              'Japan',\n",
        "              'Germany',\n",
        "              'France'\n",
        "]"
      ],
      "execution_count": null,
      "outputs": []
    },
    {
      "cell_type": "code",
      "metadata": {
        "colab": {
          "base_uri": "https://localhost:8080/"
        },
        "id": "QGHKyMvFdsfC",
        "outputId": "06888748-4271-47b3-ac89-154a58a39379"
      },
      "source": [
        "g7_pop"
      ],
      "execution_count": null,
      "outputs": [
        {
          "output_type": "execute_result",
          "data": {
            "text/plain": [
              "Canada            12\n",
              "United States     21\n",
              "United Kingdom    34\n",
              "Italy             65\n",
              "Japan             32\n",
              "Germany           65\n",
              "France            76\n",
              "Name: G7 population in millions, dtype: int64"
            ]
          },
          "metadata": {
            "tags": []
          },
          "execution_count": 29
        }
      ]
    },
    {
      "cell_type": "code",
      "metadata": {
        "colab": {
          "base_uri": "https://localhost:8080/"
        },
        "id": "QvNdd1F4eQa7",
        "outputId": "b8a36a8f-16fd-45db-f154-6246cbdf50b3"
      },
      "source": [
        "g7_pop['Canada']"
      ],
      "execution_count": null,
      "outputs": [
        {
          "output_type": "execute_result",
          "data": {
            "text/plain": [
              "12"
            ]
          },
          "metadata": {
            "tags": []
          },
          "execution_count": 30
        }
      ]
    },
    {
      "cell_type": "code",
      "metadata": {
        "colab": {
          "base_uri": "https://localhost:8080/"
        },
        "id": "8-anwVVieTM3",
        "outputId": "c385b204-3c20-436c-8f0c-2a103f98050d"
      },
      "source": [
        "g7_pop.iloc[0]"
      ],
      "execution_count": null,
      "outputs": [
        {
          "output_type": "execute_result",
          "data": {
            "text/plain": [
              "12"
            ]
          },
          "metadata": {
            "tags": []
          },
          "execution_count": 31
        }
      ]
    },
    {
      "cell_type": "code",
      "metadata": {
        "colab": {
          "base_uri": "https://localhost:8080/"
        },
        "id": "glD_-6iIeXnJ",
        "outputId": "63b9ecdb-bb6c-4b7a-ef3f-4011f33073ca"
      },
      "source": [
        "g7_pop['Canada' : 'Japan']"
      ],
      "execution_count": null,
      "outputs": [
        {
          "output_type": "execute_result",
          "data": {
            "text/plain": [
              "Canada            12\n",
              "United States     21\n",
              "United Kingdom    34\n",
              "Italy             65\n",
              "Japan             32\n",
              "Name: G7 population in millions, dtype: int64"
            ]
          },
          "metadata": {
            "tags": []
          },
          "execution_count": 33
        }
      ]
    },
    {
      "cell_type": "code",
      "metadata": {
        "colab": {
          "base_uri": "https://localhost:8080/"
        },
        "id": "ZcXtS6qhef2-",
        "outputId": "6be6b84a-be87-4803-e785-69b756cddb73"
      },
      "source": [
        "g7_pop.iloc[1 : 3]"
      ],
      "execution_count": null,
      "outputs": [
        {
          "output_type": "execute_result",
          "data": {
            "text/plain": [
              "United States     21\n",
              "United Kingdom    34\n",
              "Name: G7 population in millions, dtype: int64"
            ]
          },
          "metadata": {
            "tags": []
          },
          "execution_count": 34
        }
      ]
    },
    {
      "cell_type": "code",
      "metadata": {
        "colab": {
          "base_uri": "https://localhost:8080/"
        },
        "id": "206TiJCxekcx",
        "outputId": "455aed24-b010-449f-f2a6-c0e667404a10"
      },
      "source": [
        "g7_pop"
      ],
      "execution_count": null,
      "outputs": [
        {
          "output_type": "execute_result",
          "data": {
            "text/plain": [
              "Canada            12\n",
              "United States     21\n",
              "United Kingdom    34\n",
              "Italy             65\n",
              "Japan             32\n",
              "Germany           65\n",
              "France            76\n",
              "Name: G7 population in millions, dtype: int64"
            ]
          },
          "metadata": {
            "tags": []
          },
          "execution_count": 35
        }
      ]
    },
    {
      "cell_type": "markdown",
      "metadata": {
        "id": "1d1VKjScg-ay"
      },
      "source": [
        "# pandas series exercise"
      ]
    },
    {
      "cell_type": "code",
      "metadata": {
        "id": "7cz-bmNkhDaM",
        "colab": {
          "base_uri": "https://localhost:8080/"
        },
        "outputId": "428dccc1-aa28-4d5d-a7ef-8b590b105272"
      },
      "source": [
        "import numpy as np\n",
        "import pandas as pd\n",
        "print(pd.__version__)"
      ],
      "execution_count": 3,
      "outputs": [
        {
          "output_type": "stream",
          "text": [
            "1.1.5\n"
          ],
          "name": "stdout"
        }
      ]
    },
    {
      "cell_type": "code",
      "metadata": {
        "colab": {
          "base_uri": "https://localhost:8080/"
        },
        "id": "Y8phf8KkSMas",
        "outputId": "7034751f-d2b7-425a-86f8-4c990112abf6"
      },
      "source": [
        "pd.Series()"
      ],
      "execution_count": 5,
      "outputs": [
        {
          "output_type": "stream",
          "text": [
            "/usr/local/lib/python3.7/dist-packages/ipykernel_launcher.py:1: DeprecationWarning: The default dtype for empty Series will be 'object' instead of 'float64' in a future version. Specify a dtype explicitly to silence this warning.\n",
            "  \"\"\"Entry point for launching an IPython kernel.\n"
          ],
          "name": "stderr"
        },
        {
          "output_type": "execute_result",
          "data": {
            "text/plain": [
              "Series([], dtype: float64)"
            ]
          },
          "metadata": {
            "tags": []
          },
          "execution_count": 5
        }
      ]
    },
    {
      "cell_type": "code",
      "metadata": {
        "colab": {
          "base_uri": "https://localhost:8080/"
        },
        "id": "tTY4b69tSVCk",
        "outputId": "d1b0cae2-38a0-4df6-f6ae-6190ffd9697c"
      },
      "source": [
        "X = ['A', 'B', 'C']\n",
        "print(X, type(X))\n",
        "\n",
        "Y = pd.Series(X)\n",
        "print(Y, type(Y))"
      ],
      "execution_count": 12,
      "outputs": [
        {
          "output_type": "stream",
          "text": [
            "['A', 'B', 'C'] <class 'list'>\n",
            "0    A\n",
            "1    B\n",
            "2    C\n",
            "dtype: object <class 'pandas.core.series.Series'>\n"
          ],
          "name": "stdout"
        }
      ]
    },
    {
      "cell_type": "code",
      "metadata": {
        "colab": {
          "base_uri": "https://localhost:8080/"
        },
        "id": "IWLM5sTpS5rN",
        "outputId": "b19a5189-4a0f-4897-a5fe-80d452613a59"
      },
      "source": [
        "X = pd.Series(['A','B','C'])\n",
        "X.name = 'My Letter'\n",
        "print(X)"
      ],
      "execution_count": 15,
      "outputs": [
        {
          "output_type": "stream",
          "text": [
            "0    A\n",
            "1    B\n",
            "2    C\n",
            "Name: My Letter, dtype: object\n"
          ],
          "name": "stdout"
        }
      ]
    },
    {
      "cell_type": "code",
      "metadata": {
        "colab": {
          "base_uri": "https://localhost:8080/"
        },
        "id": "QRM2a0QBTKiP",
        "outputId": "5d525ad7-41b1-45eb-e94b-7baca421afaa"
      },
      "source": [
        "print(X.values)"
      ],
      "execution_count": 16,
      "outputs": [
        {
          "output_type": "stream",
          "text": [
            "['A' 'B' 'C']\n"
          ],
          "name": "stdout"
        }
      ]
    },
    {
      "cell_type": "markdown",
      "metadata": {
        "id": "KtSeZ7sWTRhS"
      },
      "source": [
        "Series Indexation"
      ]
    },
    {
      "cell_type": "code",
      "metadata": {
        "colab": {
          "base_uri": "https://localhost:8080/"
        },
        "id": "tEwQ0Xn1TdXv",
        "outputId": "d4707160-1d5c-4020-d169-f3f99a943382"
      },
      "source": [
        "X = pd.Series(['A','B','C'])\n",
        "index_names = ['first', 'second', 'third']\n",
        "\n",
        "X.index = index_names\n",
        "print(X)\n",
        "print(X[0])\n",
        "print(X.iloc[0])\n",
        "print(X['first'])"
      ],
      "execution_count": 22,
      "outputs": [
        {
          "output_type": "stream",
          "text": [
            "first     A\n",
            "second    B\n",
            "third     C\n",
            "dtype: object\n",
            "A\n",
            "A\n",
            "A\n"
          ],
          "name": "stdout"
        }
      ]
    },
    {
      "cell_type": "code",
      "metadata": {
        "colab": {
          "base_uri": "https://localhost:8080/"
        },
        "id": "RNkls0ZVT8Ns",
        "outputId": "e032ed3f-d448-4348-efe6-e58c82c8fad6"
      },
      "source": [
        "X = pd.Series(['A','B','C','D','E'], index=['first','second','third','forth','fifth'])\n",
        "print(X[1:-1])\n",
        "print(X.iloc[1:-1])\n",
        "print(X[::-1])\n",
        "print(X.iloc[::-1])\n",
        "print(X.iloc[[1, -1]])\n",
        "print(X[[1, -1]])"
      ],
      "execution_count": 30,
      "outputs": [
        {
          "output_type": "stream",
          "text": [
            "second    B\n",
            "third     C\n",
            "forth     D\n",
            "dtype: object\n",
            "second    B\n",
            "third     C\n",
            "forth     D\n",
            "dtype: object\n",
            "fifth     E\n",
            "forth     D\n",
            "third     C\n",
            "second    B\n",
            "first     A\n",
            "dtype: object\n",
            "fifth     E\n",
            "forth     D\n",
            "third     C\n",
            "second    B\n",
            "first     A\n",
            "dtype: object\n",
            "second    B\n",
            "fifth     E\n",
            "dtype: object\n",
            "second    B\n",
            "fifth     E\n",
            "dtype: object\n"
          ],
          "name": "stdout"
        }
      ]
    },
    {
      "cell_type": "markdown",
      "metadata": {
        "id": "PcuYY1BZUdyR"
      },
      "source": [
        "Series Manipulation"
      ]
    },
    {
      "cell_type": "code",
      "metadata": {
        "colab": {
          "base_uri": "https://localhost:8080/"
        },
        "id": "sjadGq4lUhn1",
        "outputId": "1803cc06-9265-4113-e3bb-75a67638b575"
      },
      "source": [
        "X = pd.Series([1,2,3,4,5], index=['first','second','third','forth','fifth'])\n",
        "X = pd.Series(X, dtype=np.float)\n",
        "print(X)\n",
        "print('\\n')\n",
        "X = X[::-1]\n",
        "print(X)\n",
        "print('\\n')\n",
        "X = X.sort_values()\n",
        "print(X)\n",
        "print('\\n')\n",
        "X[4] = 10\n",
        "print(X)\n",
        "print('\\n')\n",
        "X[1:-1] = 0\n",
        "print(X)\n",
        "print('\\n')\n",
        "print(X + 5)"
      ],
      "execution_count": 43,
      "outputs": [
        {
          "output_type": "stream",
          "text": [
            "first     1.0\n",
            "second    2.0\n",
            "third     3.0\n",
            "forth     4.0\n",
            "fifth     5.0\n",
            "dtype: float64\n",
            "\n",
            "\n",
            "fifth     5.0\n",
            "forth     4.0\n",
            "third     3.0\n",
            "second    2.0\n",
            "first     1.0\n",
            "dtype: float64\n",
            "\n",
            "\n",
            "first     1.0\n",
            "second    2.0\n",
            "third     3.0\n",
            "forth     4.0\n",
            "fifth     5.0\n",
            "dtype: float64\n",
            "\n",
            "\n",
            "first      1.0\n",
            "second     2.0\n",
            "third      3.0\n",
            "forth      4.0\n",
            "fifth     10.0\n",
            "dtype: float64\n",
            "\n",
            "\n",
            "first      1.0\n",
            "second     0.0\n",
            "third      0.0\n",
            "forth      0.0\n",
            "fifth     10.0\n",
            "dtype: float64\n",
            "\n",
            "\n",
            "first      6.0\n",
            "second     5.0\n",
            "third      5.0\n",
            "forth      5.0\n",
            "fifth     15.0\n",
            "dtype: float64\n"
          ],
          "name": "stdout"
        }
      ]
    },
    {
      "cell_type": "markdown",
      "metadata": {
        "id": "3FTaCJd-V4lL"
      },
      "source": [
        "Series Boolean Array(masks)"
      ]
    },
    {
      "cell_type": "code",
      "metadata": {
        "colab": {
          "base_uri": "https://localhost:8080/"
        },
        "id": "rAhjnGE9V-ta",
        "outputId": "643d3e8c-7ec2-4c7d-8e86-a756e3267eaa"
      },
      "source": [
        "X = pd.Series([-1,2,0,-4,5,6,0,0,-9,10])\n",
        "print(X[X < 0])\n",
        "print('\\n')\n",
        "print(X[X > 5])\n",
        "print('\\n')\n",
        "print(X[X > X.mean()])\n",
        "print('\\n')\n",
        "print(X[(X == 2) | (X == 10)])"
      ],
      "execution_count": 47,
      "outputs": [
        {
          "output_type": "stream",
          "text": [
            "0   -1\n",
            "3   -4\n",
            "8   -9\n",
            "dtype: int64\n",
            "\n",
            "\n",
            "5     6\n",
            "9    10\n",
            "dtype: int64\n",
            "\n",
            "\n",
            "1     2\n",
            "4     5\n",
            "5     6\n",
            "9    10\n",
            "dtype: int64\n",
            "\n",
            "\n",
            "1     2\n",
            "9    10\n",
            "dtype: int64\n"
          ],
          "name": "stdout"
        }
      ]
    },
    {
      "cell_type": "markdown",
      "metadata": {
        "id": "EzeaoIMHWVu6"
      },
      "source": [
        "Logic Functions\n"
      ]
    },
    {
      "cell_type": "code",
      "metadata": {
        "colab": {
          "base_uri": "https://localhost:8080/"
        },
        "id": "JQeL2IWlWZfE",
        "outputId": "15f439dc-f17a-4dcb-e868-4b2d879981b7"
      },
      "source": [
        "X = pd.Series([-1,2,0,-4,5,6,0,0,-9,10])\n",
        "\n",
        "print(X.all())\n",
        "print(X.any())"
      ],
      "execution_count": 50,
      "outputs": [
        {
          "output_type": "stream",
          "text": [
            "False\n",
            "True\n"
          ],
          "name": "stdout"
        }
      ]
    },
    {
      "cell_type": "markdown",
      "metadata": {
        "id": "NCNXy7XoWle4"
      },
      "source": [
        "Summary Statistics\n"
      ]
    },
    {
      "cell_type": "code",
      "metadata": {
        "colab": {
          "base_uri": "https://localhost:8080/"
        },
        "id": "hwxZvyb1Wpem",
        "outputId": "4f2abd12-d455-4ed2-9ef8-841e428ec47a"
      },
      "source": [
        "X = pd.Series([3,5,6,7,2,3,4,9,4])\n",
        "print(X.sum())\n",
        "print(X.mean())\n",
        "print(X.max())"
      ],
      "execution_count": 53,
      "outputs": [
        {
          "output_type": "stream",
          "text": [
            "43\n",
            "4.777777777777778\n",
            "9\n"
          ],
          "name": "stdout"
        }
      ]
    }
  ]
}